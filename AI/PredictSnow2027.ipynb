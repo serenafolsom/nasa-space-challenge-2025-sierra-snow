{
 "cells": [
  {
   "cell_type": "code",
   "execution_count": null,
   "id": "82455fe7",
   "metadata": {},
   "outputs": [
    {
     "name": "stdout",
     "output_type": "stream",
     "text": [
      "Predicted mean April snow depth for 2027: 4.95\n"
     ]
    }
   ],
   "source": [
    "import pandas as pd\n",
    "from sklearn.linear_model import LinearRegression\n",
    "import numpy as np\n",
    "\n",
    "# Load CSV (must contain columns 'year' and 'NDSI_Snow_Cover')\n",
    "data = pd.read_csv('April_Mean_SnowCover_2010_2025.csv')\n",
    "\n",
    "# Prepare data\n",
    "X = data['year'].values.reshape(-1, 1)           # Years\n",
    "y = data['NDSI_Snow_Cover'].values               # Mean snow cover\n",
    "\n",
    "# Train model\n",
    "model = LinearRegression()\n",
    "model.fit(X, y)\n",
    "\n",
    "# Predict snow depth for April 2027\n",
    "year_2027 = np.array([[2027]])\n",
    "predicted_depth = model.predict(year_2027)\n",
    "print(f\"Predicted mean April snow depth for 2027: {predicted_depth[0]:.2f}\")\n"
   ]
  },
  {
   "cell_type": "code",
   "execution_count": 3,
   "id": "c845a660",
   "metadata": {},
   "outputs": [
    {
     "name": "stdout",
     "output_type": "stream",
     "text": [
      "Collecting xgboost\n",
      "  Downloading xgboost-3.0.5-py3-none-win_amd64.whl.metadata (2.1 kB)\n",
      "Requirement already satisfied: numpy in c:\\users\\camvupham\\appdata\\local\\programs\\python\\python312\\lib\\site-packages (from xgboost) (2.2.6)\n",
      "Requirement already satisfied: scipy in c:\\users\\camvupham\\appdata\\local\\programs\\python\\python312\\lib\\site-packages (from xgboost) (1.16.1)\n",
      "Downloading xgboost-3.0.5-py3-none-win_amd64.whl (56.8 MB)\n",
      "   ---------------------------------------- 0.0/56.8 MB ? eta -:--:--\n",
      "   ---------------------------------------- 0.1/56.8 MB 1.7 MB/s eta 0:00:33\n",
      "   ---------------------------------------- 0.5/56.8 MB 4.9 MB/s eta 0:00:12\n",
      "   - -------------------------------------- 1.5/56.8 MB 10.9 MB/s eta 0:00:06\n",
      "   - -------------------------------------- 2.6/56.8 MB 13.6 MB/s eta 0:00:05\n",
      "   -- ------------------------------------- 3.6/56.8 MB 15.3 MB/s eta 0:00:04\n",
      "   --- ------------------------------------ 4.7/56.8 MB 16.6 MB/s eta 0:00:04\n",
      "   ---- ----------------------------------- 5.7/56.8 MB 17.2 MB/s eta 0:00:03\n",
      "   ---- ----------------------------------- 6.7/56.8 MB 17.8 MB/s eta 0:00:03\n",
      "   ----- ---------------------------------- 7.6/56.8 MB 18.8 MB/s eta 0:00:03\n",
      "   ----- ---------------------------------- 7.6/56.8 MB 18.8 MB/s eta 0:00:03\n",
      "   ----- ---------------------------------- 7.8/56.8 MB 15.5 MB/s eta 0:00:04\n",
      "   ------- -------------------------------- 10.1/56.8 MB 18.5 MB/s eta 0:00:03\n",
      "   ------- -------------------------------- 11.3/56.8 MB 21.1 MB/s eta 0:00:03\n",
      "   -------- ------------------------------- 12.3/56.8 MB 21.1 MB/s eta 0:00:03\n",
      "   --------- ------------------------------ 13.4/56.8 MB 21.1 MB/s eta 0:00:03\n",
      "   ---------- ----------------------------- 14.4/56.8 MB 21.1 MB/s eta 0:00:03\n",
      "   ---------- ----------------------------- 15.5/56.8 MB 21.1 MB/s eta 0:00:02\n",
      "   ----------- ---------------------------- 16.0/56.8 MB 21.1 MB/s eta 0:00:02\n",
      "   ------------ --------------------------- 17.4/56.8 MB 21.1 MB/s eta 0:00:02\n",
      "   ------------ --------------------------- 18.0/56.8 MB 24.2 MB/s eta 0:00:02\n",
      "   ------------- -------------------------- 19.0/56.8 MB 22.6 MB/s eta 0:00:02\n",
      "   -------------- ------------------------- 20.1/56.8 MB 21.1 MB/s eta 0:00:02\n",
      "   -------------- ------------------------- 21.1/56.8 MB 21.1 MB/s eta 0:00:02\n",
      "   --------------- ------------------------ 22.1/56.8 MB 21.1 MB/s eta 0:00:02\n",
      "   ---------------- ----------------------- 23.2/56.8 MB 21.1 MB/s eta 0:00:02\n",
      "   ----------------- ---------------------- 24.2/56.8 MB 21.1 MB/s eta 0:00:02\n",
      "   ----------------- ---------------------- 25.2/56.8 MB 21.1 MB/s eta 0:00:02\n",
      "   ------------------ --------------------- 26.3/56.8 MB 22.6 MB/s eta 0:00:02\n",
      "   ------------------- -------------------- 27.3/56.8 MB 21.8 MB/s eta 0:00:02\n",
      "   ------------------- -------------------- 28.3/56.8 MB 22.6 MB/s eta 0:00:02\n",
      "   -------------------- ------------------- 28.4/56.8 MB 22.6 MB/s eta 0:00:02\n",
      "   --------------------- ------------------ 30.4/56.8 MB 22.6 MB/s eta 0:00:02\n",
      "   --------------------- ------------------ 31.2/56.8 MB 21.8 MB/s eta 0:00:02\n",
      "   ---------------------- ----------------- 32.3/56.8 MB 21.8 MB/s eta 0:00:02\n",
      "   ----------------------- ---------------- 33.3/56.8 MB 21.8 MB/s eta 0:00:02\n",
      "   ------------------------ --------------- 34.3/56.8 MB 21.8 MB/s eta 0:00:02\n",
      "   ------------------------ --------------- 35.3/56.8 MB 21.8 MB/s eta 0:00:01\n",
      "   ------------------------- -------------- 36.4/56.8 MB 21.9 MB/s eta 0:00:01\n",
      "   -------------------------- ------------- 37.4/56.8 MB 21.9 MB/s eta 0:00:01\n",
      "   --------------------------- ------------ 38.5/56.8 MB 21.8 MB/s eta 0:00:01\n",
      "   --------------------------- ------------ 39.5/56.8 MB 24.2 MB/s eta 0:00:01\n",
      "   ---------------------------- ----------- 40.5/56.8 MB 22.6 MB/s eta 0:00:01\n",
      "   ----------------------------- ---------- 41.6/56.8 MB 23.4 MB/s eta 0:00:01\n",
      "   ----------------------------- ---------- 42.6/56.8 MB 22.6 MB/s eta 0:00:01\n",
      "   ------------------------------ --------- 43.6/56.8 MB 22.6 MB/s eta 0:00:01\n",
      "   ------------------------------- -------- 44.7/56.8 MB 22.6 MB/s eta 0:00:01\n",
      "   -------------------------------- ------- 45.7/56.8 MB 22.6 MB/s eta 0:00:01\n",
      "   -------------------------------- ------- 46.7/56.8 MB 22.5 MB/s eta 0:00:01\n",
      "   --------------------------------- ------ 47.8/56.8 MB 22.6 MB/s eta 0:00:01\n",
      "   ---------------------------------- ----- 48.8/56.8 MB 22.6 MB/s eta 0:00:01\n",
      "   ----------------------------------- ---- 49.9/56.8 MB 22.6 MB/s eta 0:00:01\n",
      "   ----------------------------------- ---- 50.9/56.8 MB 22.6 MB/s eta 0:00:01\n",
      "   ------------------------------------ --- 51.9/56.8 MB 22.6 MB/s eta 0:00:01\n",
      "   ------------------------------------- -- 53.0/56.8 MB 22.6 MB/s eta 0:00:01\n",
      "   ------------------------------------- -- 54.0/56.8 MB 22.6 MB/s eta 0:00:01\n",
      "   -------------------------------------- - 55.0/56.8 MB 22.5 MB/s eta 0:00:01\n",
      "   ---------------------------------------  56.1/56.8 MB 22.6 MB/s eta 0:00:01\n",
      "   ---------------------------------------  56.8/56.8 MB 22.6 MB/s eta 0:00:01\n",
      "   ---------------------------------------  56.8/56.8 MB 22.6 MB/s eta 0:00:01\n",
      "   ---------------------------------------- 56.8/56.8 MB 19.3 MB/s eta 0:00:00\n",
      "Installing collected packages: xgboost\n",
      "Successfully installed xgboost-3.0.5\n"
     ]
    },
    {
     "name": "stderr",
     "output_type": "stream",
     "text": [
      "\n",
      "[notice] A new release of pip is available: 24.1.2 -> 25.2\n",
      "[notice] To update, run: python.exe -m pip install --upgrade pip\n"
     ]
    }
   ],
   "source": [
    "!pip install xgboost\n"
   ]
  },
  {
   "cell_type": "code",
   "execution_count": 19,
   "id": "19af5f64",
   "metadata": {},
   "outputs": [
    {
     "name": "stdout",
     "output_type": "stream",
     "text": [
      "XGBoost predicted snow depth for April 2027: 4.07\n",
      "XGBoost predicted snow depth for April 2028: 4.07\n",
      "XGBoost predicted snow depth for April 2029: 4.07\n",
      "XGBoost predicted snow depth for April 2030: 4.07\n"
     ]
    }
   ],
   "source": [
    "import pandas as pd\n",
    "import xgboost as xgb\n",
    "import numpy as np\n",
    "\n",
    "# Load the data (CSV must have columns 'year' and 'NDSI_Snow_Cover')\n",
    "data = pd.read_csv('April_Mean_SnowCover_2010_2025.csv')\n",
    "\n",
    "X = data['year'].values.reshape(-1, 1)\n",
    "y = data['NDSI_Snow_Cover'].values\n",
    "\n",
    "# Train XGBoost regressor\n",
    "model = xgb.XGBRegressor(n_estimators=100, max_depth=3, random_state=42)\n",
    "model.fit(X, y)\n",
    "\n",
    "# Predict for multiple future years\n",
    "future_years = np.array([[2027], [2028], [2029], [2030]])\n",
    "predictions = model.predict(future_years)\n",
    "\n",
    "# Print predictions\n",
    "for year, pred in zip(future_years.flatten(), predictions):\n",
    "    print(f\"XGBoost predicted snow depth for April {year}: {pred:.2f}\")\n",
    "\n"
   ]
  },
  {
   "cell_type": "code",
   "execution_count": 21,
   "id": "636f535c",
   "metadata": {},
   "outputs": [
    {
     "name": "stderr",
     "output_type": "stream",
     "text": [
      "c:\\Users\\CAMVUPHAM\\AppData\\Local\\Programs\\Python\\Python312\\Lib\\site-packages\\keras\\src\\layers\\rnn\\rnn.py:199: UserWarning: Do not pass an `input_shape`/`input_dim` argument to a layer. When using Sequential models, prefer using an `Input(shape)` object as the first layer in the model instead.\n",
      "  super().__init__(**kwargs)\n"
     ]
    },
    {
     "name": "stdout",
     "output_type": "stream",
     "text": [
      "\u001b[1m1/1\u001b[0m \u001b[32m━━━━━━━━━━━━━━━━━━━━\u001b[0m\u001b[37m\u001b[0m \u001b[1m0s\u001b[0m 88ms/step\n",
      "LSTM predicts April 2027 snow depth: 0.76\n"
     ]
    }
   ],
   "source": [
    "import pandas as pd\n",
    "import numpy as np\n",
    "from tensorflow.keras.models import Sequential\n",
    "from tensorflow.keras.layers import LSTM, Dense\n",
    "\n",
    "df = pd.read_csv('April_Mean_SnowCover_2010_2025.csv')\n",
    "X = df['year'].values.reshape(-1, 1, 1)\n",
    "y = df['NDSI_Snow_Cover'].values\n",
    "\n",
    "model = Sequential([LSTM(20, input_shape=(1,1)), Dense(1)])\n",
    "model.compile(optimizer='adam', loss='mse')\n",
    "model.fit(X, y, epochs=100, verbose=0)\n",
    "\n",
    "pred2027 = model.predict(np.array([[[2027]]]))\n",
    "print(f\"LSTM predicts April 2027 snow depth: {pred2027[0][0]:.2f}\")\n"
   ]
  },
  {
   "cell_type": "code",
   "execution_count": null,
   "id": "bf416288",
   "metadata": {},
   "outputs": [
    {
     "name": "stdout",
     "output_type": "stream",
     "text": [
      "Random Forest predicted snow depth for April 2027: 5.28\n"
     ]
    }
   ],
   "source": [
    "import pandas as pd\n",
    "import numpy as np\n",
    "from sklearn.ensemble import RandomForestRegressor\n",
    "\n",
    "# Load the dataset with 'year' and 'NDSI_Snow_Cover' columns\n",
    "data = pd.read_csv('April_Mean_SnowCover_2010_2025.csv')\n",
    "X = data['year'].values.reshape(-1, 1)\n",
    "y = data['NDSI_Snow_Cover'].values\n",
    "\n",
    "# Train the model\n",
    "rf = RandomForestRegressor(n_estimators=100, max_depth=5, random_state=42)\n",
    "rf.fit(X, y)\n",
    "\n",
    "# Predict April 2027 snow depth\n",
    "year_2027 = np.array([[2027]])\n",
    "predicted_depth = rf.predict(year_2027)\n",
    "print(f\"Random Forest predicted snow depth for April 2027: {predicted_depth[0]:.2f}\")\n"
   ]
  },
  {
   "cell_type": "code",
   "execution_count": 7,
   "id": "6ac3041b",
   "metadata": {},
   "outputs": [
    {
     "name": "stdout",
     "output_type": "stream",
     "text": [
      "SVR predicted snow depth for April 2027: -0.05\n"
     ]
    }
   ],
   "source": [
    "import pandas as pd\n",
    "import numpy as np\n",
    "from sklearn.svm import SVR\n",
    "\n",
    "data = pd.read_csv('April_Mean_SnowCover_2010_2025.csv')\n",
    "X = data['year'].values.reshape(-1, 1)\n",
    "y = data['NDSI_Snow_Cover'].values\n",
    "\n",
    "svr = SVR(kernel='rbf', C=100, gamma=0.1, epsilon=0.1)\n",
    "svr.fit(X, y)\n",
    "\n",
    "year_2027 = np.array([[2027]])\n",
    "predicted_depth = svr.predict(year_2027)\n",
    "print(f\"SVR predicted snow depth for April 2027: {predicted_depth[0]:.2f}\")\n"
   ]
  },
  {
   "cell_type": "code",
   "execution_count": 8,
   "id": "140f1f88",
   "metadata": {},
   "outputs": [
    {
     "name": "stdout",
     "output_type": "stream",
     "text": [
      "LightGBM predicted snow depth for April 2027: 4.75\n"
     ]
    }
   ],
   "source": [
    "import pandas as pd\n",
    "import numpy as np\n",
    "import lightgbm as lgb\n",
    "\n",
    "# Load your data with 'year' and 'NDSI_Snow_Cover'\n",
    "data = pd.read_csv('April_Mean_SnowCover_2010_2025.csv')\n",
    "X = data['year'].values.reshape(-1, 1)\n",
    "y = data['NDSI_Snow_Cover'].values\n",
    "\n",
    "# Prepare LightGBM dataset\n",
    "d_train = lgb.Dataset(X, label=y)\n",
    "\n",
    "# Train the model\n",
    "params = {'objective': 'regression', 'metric': 'rmse', 'verbosity': -1}\n",
    "model = lgb.train(params, d_train, num_boost_round=100)\n",
    "\n",
    "# Predict April 2027\n",
    "pred_2027 = model.predict(np.array([[2027]]))\n",
    "print(f\"LightGBM predicted snow depth for April 2027: {pred_2027[0]:.2f}\")\n"
   ]
  }
 ],
 "metadata": {
  "kernelspec": {
   "display_name": "Python 3",
   "language": "python",
   "name": "python3"
  },
  "language_info": {
   "codemirror_mode": {
    "name": "ipython",
    "version": 3
   },
   "file_extension": ".py",
   "mimetype": "text/x-python",
   "name": "python",
   "nbconvert_exporter": "python",
   "pygments_lexer": "ipython3",
   "version": "3.12.4"
  }
 },
 "nbformat": 4,
 "nbformat_minor": 5
}
